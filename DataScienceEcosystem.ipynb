{
 "cells": [
  {
   "cell_type": "markdown",
   "id": "0524fc8d-2444-4b9b-bde8-8aaca670b0dc",
   "metadata": {},
   "source": [
    "# Data Science Tools and Ecosystem\n"
   ]
  },
  {
   "cell_type": "markdown",
   "id": "7255a10b-b0f9-4e71-b6f3-571995058dd5",
   "metadata": {
    "tags": []
   },
   "source": [
    "#### In this notebook, Data Science Tools and Ecosystem are summarized."
   ]
  },
  {
   "cell_type": "markdown",
   "id": "6c111c64-b6cc-4321-9048-67f7c3c02002",
   "metadata": {},
   "source": [
    "#### Some of the popular languages that Data Scientists use are:\n"
   ]
  },
  {
   "cell_type": "markdown",
   "id": "22051b25-2a42-4a8e-8c1e-e8844e5688fc",
   "metadata": {
    "tags": []
   },
   "source": [
    "1. Python\n",
    "1. R\n",
    "1. Scala\n",
    "1. Julia"
   ]
  },
  {
   "cell_type": "markdown",
   "id": "6da8417f-81b4-4aa6-a5de-e276a23b5446",
   "metadata": {
    "tags": []
   },
   "source": [
    "#### Some of the commonly used libraries used by Data Scientists include:"
   ]
  },
  {
   "cell_type": "markdown",
   "id": "47328856-9f61-472a-8f70-9f507c260a44",
   "metadata": {},
   "source": [
    "1. pandas\n",
    "1. scikit-learn\n",
    "!3. keras\n",
    "4. dplyr\n"
   ]
  },
  {
   "cell_type": "markdown",
   "id": "84a4a59f-d78a-4480-8d43-03bf56d106de",
   "metadata": {
    "tags": []
   },
   "source": [
    "| Data Science Tools|\n",
    "|-------------------|\n",
    "|Jupyter|\n",
    "|VS Code|\n",
    "|R Studio|"
   ]
  },
  {
   "cell_type": "markdown",
   "id": "d111bb16-313c-4e70-9027-1663a4e91ccf",
   "metadata": {},
   "source": [
    "### Below are a few examples of evaluating arithmetic expressions in Python"
   ]
  },
  {
   "cell_type": "code",
   "execution_count": 5,
   "id": "d7f9395c-d7be-4abf-acdf-9b035bd09cf6",
   "metadata": {
    "tags": []
   },
   "outputs": [
    {
     "data": {
      "text/plain": [
       "17"
      ]
     },
     "execution_count": 5,
     "metadata": {},
     "output_type": "execute_result"
    }
   ],
   "source": [
    "# This a simple arithmetic expression to mutiply then add integers\n",
    "(3*4)+5"
   ]
  },
  {
   "cell_type": "code",
   "execution_count": 6,
   "id": "790e6c09-9ac0-4556-95a5-c2639a01208b",
   "metadata": {
    "tags": []
   },
   "outputs": [
    {
     "data": {
      "text/plain": [
       "3.3333333333333335"
      ]
     },
     "execution_count": 6,
     "metadata": {},
     "output_type": "execute_result"
    }
   ],
   "source": [
    "# This will convert 200 minutes to hours by diving by 60\n",
    "200/60"
   ]
  },
  {
   "cell_type": "markdown",
   "id": "549bd40c-ea7a-4c26-b11e-63a5fc8b8f00",
   "metadata": {},
   "source": [
    "**Objectives:|**\n"
   ]
  },
  {
   "cell_type": "markdown",
   "id": "6a3741ff-33a6-4470-a724-7966cf6fd0c8",
   "metadata": {
    "tags": []
   },
   "source": [
    "- Python\n",
    "- R\n",
    "- Scala\n",
    "- Julia\n",
    "- C"
   ]
  },
  {
   "cell_type": "markdown",
   "id": "abcaf441-de1b-4f2e-8943-62e9a8a456a2",
   "metadata": {},
   "source": [
    "## Author\n",
    "Bibin C Alex"
   ]
  },
  {
   "cell_type": "code",
   "execution_count": null,
   "id": "c0cec992-fc00-4304-9f40-7cd1cab0623e",
   "metadata": {},
   "outputs": [],
   "source": []
  }
 ],
 "metadata": {
  "kernelspec": {
   "display_name": "Python 3 (ipykernel)",
   "language": "python",
   "name": "python3"
  },
  "language_info": {
   "codemirror_mode": {
    "name": "ipython",
    "version": 3
   },
   "file_extension": ".py",
   "mimetype": "text/x-python",
   "name": "python",
   "nbconvert_exporter": "python",
   "pygments_lexer": "ipython3",
   "version": "3.9.12"
  }
 },
 "nbformat": 4,
 "nbformat_minor": 5
}
